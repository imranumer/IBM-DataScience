{
  "nbformat": 4,
  "nbformat_minor": 0,
  "metadata": {
    "colab": {
      "provenance": []
    },
    "kernelspec": {
      "name": "python3",
      "display_name": "Python 3"
    },
    "language_info": {
      "name": "python"
    }
  },
  "cells": [
    {
      "cell_type": "markdown",
      "source": [
        "<h1>Data Science Tools and Ecosystem</h1>"
      ],
      "metadata": {
        "id": "rgp5vcVENHjQ"
      }
    },
    {
      "cell_type": "markdown",
      "source": [
        "In this notebook, Data Science Tools and Ecosystem are summarized."
      ],
      "metadata": {
        "id": "VhhLhA9cNSjN"
      }
    },
    {
      "cell_type": "markdown",
      "source": [
        "Some of the popular languages that Data Scientists use are:\n",
        "\n",
        "1.   Python\n",
        "2.   R\n",
        "3.   scala\n",
        "\n"
      ],
      "metadata": {
        "id": "T2CId3IaNwdT"
      }
    },
    {
      "cell_type": "markdown",
      "source": [
        "Some of the commonly used libraries used by Data Scientists include:\n",
        "\n",
        "1.   Pandas\n",
        "2.   Numpy\n",
        "3.   seaborn\n",
        "4.   Matplotlib\n",
        "\n"
      ],
      "metadata": {
        "id": "Z6w9XbJtOXpV"
      }
    },
    {
      "cell_type": "markdown",
      "source": [
        "\n",
        "|Data Science Tools|\n",
        "|---|\n",
        "|Apache Spark|\n",
        "| Anaconda |\n",
        "| Jupyter Notebooks |"
      ],
      "metadata": {
        "id": "mtEhEXRoPj_t"
      }
    },
    {
      "cell_type": "markdown",
      "source": [
        "<h3>Below are a few examples of evaluating arithmetic expressions in Python</h3>"
      ],
      "metadata": {
        "id": "hv-ekvIgQMM4"
      }
    },
    {
      "cell_type": "code",
      "source": [
        "(3*4)+5 #This a simple arithmetic expression to mutiply then add integers"
      ],
      "metadata": {
        "colab": {
          "base_uri": "https://localhost:8080/"
        },
        "id": "OEKKJnH9QW4P",
        "outputId": "d6953585-a1fb-46b3-980d-6c949f11d7c3"
      },
      "execution_count": 2,
      "outputs": [
        {
          "output_type": "execute_result",
          "data": {
            "text/plain": [
              "17"
            ]
          },
          "metadata": {},
          "execution_count": 2
        }
      ]
    },
    {
      "cell_type": "code",
      "source": [
        "minutes=200\n",
        "houre=60\n",
        "conver=minutes/houre #This will convert 200 minutes to hours by diving by 60\n",
        "conver"
      ],
      "metadata": {
        "colab": {
          "base_uri": "https://localhost:8080/"
        },
        "id": "JoDiFKULUkJk",
        "outputId": "df681f06-f819-44c8-efba-d18cf1c94642"
      },
      "execution_count": 4,
      "outputs": [
        {
          "output_type": "execute_result",
          "data": {
            "text/plain": [
              "3.3333333333333335"
            ]
          },
          "metadata": {},
          "execution_count": 4
        }
      ]
    },
    {
      "cell_type": "markdown",
      "source": [
        "<b>Objectives:</b>\n",
        "* List popular languages for Data Scienc\n",
        "* Data Science Tools\n",
        "* commonly used libraries used by Data Scientists"
      ],
      "metadata": {
        "id": "olKsa7fOVHAl"
      }
    },
    {
      "cell_type": "markdown",
      "source": [
        "<h2>Author</h2>\n",
        "Imran Umer"
      ],
      "metadata": {
        "id": "kHpSgoTtVYP_"
      }
    },
    {
      "cell_type": "markdown",
      "source": [],
      "metadata": {
        "id": "N-H_8JUXcUtS"
      }
    }
  ]
}